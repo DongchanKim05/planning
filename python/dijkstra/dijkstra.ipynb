{
 "cells": [
  {
   "cell_type": "markdown",
   "metadata": {},
   "source": [
    "# Dijkstra algorithm"
   ]
  },
  {
   "cell_type": "code",
   "execution_count": 1,
   "metadata": {},
   "outputs": [],
   "source": [
    "import numpy as np\n",
    "import math\n",
    "import matplotlib.pyplot as plt\n",
    "from IPython.display import clear_output\n",
    "import random\n",
    "import time"
   ]
  },
  {
   "cell_type": "code",
   "execution_count": 2,
   "metadata": {},
   "outputs": [],
   "source": [
    "class Node:\n",
    "    def __init__(self, parent=None, position=None):\n",
    "        self.parent = parent\n",
    "        self.position = position\n",
    "        \n",
    "        self.f = 0\n",
    "        \n",
    "    def __eq__(self, other):\n",
    "        if self.position == other.position:\n",
    "            return True"
   ]
  },
  {
   "cell_type": "code",
   "execution_count": 3,
   "metadata": {},
   "outputs": [],
   "source": [
    "show_animation  = True"
   ]
  },
  {
   "cell_type": "code",
   "execution_count": 4,
   "metadata": {},
   "outputs": [],
   "source": [
    "def get_action():\n",
    "    # dx, dy, cost\n",
    "    action_set = [[0,-1,1], [0,1,1], [-1,0,1], [1,0,1],\n",
    "                          [1,-1,np.sqrt(2)], [1,1,np.sqrt(2)], [-1,1,np.sqrt(2)], [-1,-1,np.sqrt(2)]]\n",
    "    return action_set"
   ]
  },
  {
   "cell_type": "code",
   "execution_count": 5,
   "metadata": {},
   "outputs": [],
   "source": [
    "def collision_check(omap, node):\n",
    "    nx = node[0]\n",
    "    ny = node[1]\n",
    "    ox = omap[0]\n",
    "    oy = omap[1]\n",
    "    \n",
    "    col = False\n",
    "\n",
    "    for i in range(len(ox)):\n",
    "        if nx == ox[i] and ny == oy[i]:\n",
    "            col = True\n",
    "            break\n",
    "\n",
    "    return col"
   ]
  },
  {
   "cell_type": "code",
   "execution_count": 6,
   "metadata": {},
   "outputs": [],
   "source": [
    "# a star algorithm\n",
    "def a_star(start, goal, omap):\n",
    "    \n",
    "    # initialize\n",
    "    start_node = Node(None, start)\n",
    "    goal_node = Node(None, goal)\n",
    "\n",
    "    Open = []\n",
    "    Closed = []\n",
    "\n",
    "    Open.append(start_node)\n",
    "    \n",
    "    while Open is not None:\n",
    "        # find current node with lowest f in 'Open list'\n",
    "        cur_node = Open[0]\n",
    "        cur_ind = 0\n",
    "        for ind, node in enumerate(Open):\n",
    "            if node.f < cur_node.f:\n",
    "                cur_node = node\n",
    "                cur_ind = ind\n",
    "\n",
    "        # If goal, get optimal path\n",
    "        if cur_node.position == goal_node.position:\n",
    "            opt_path = []\n",
    "\n",
    "            node = cur_node\n",
    "\n",
    "            while node is not None:\n",
    "                opt_path.append(node.position)\n",
    "                node = node.parent\n",
    "            print(\"opt path : \", opt_path[::-1])\n",
    "            print(\"opt_path_shape : \", np.shape(opt_path))\n",
    "            return opt_path[::-1]\n",
    "\n",
    "        # if not goal, delete from 'Open list' and add to 'Closed list'\n",
    "        Open.pop(cur_ind)\n",
    "        Closed.append(cur_node)\n",
    "\n",
    "        # search child nodes\n",
    "        action_set = get_action()\n",
    "        \n",
    "        for action in action_set:\n",
    "            # position of child candidate\n",
    "            child_cand = (cur_node.position[0] + action[0], cur_node.position[1] + action[1])\n",
    "\n",
    "            if collision_check(omap, child_cand):\n",
    "                continue\n",
    "\n",
    "            # create new node\n",
    "            child = Node(parent=cur_node, position=child_cand)\n",
    "            \n",
    "            # If in 'Closed list', continue \n",
    "            if child in Closed:\n",
    "                continue\n",
    "                \n",
    "            child.f = cur_node.f + action[2]\n",
    "            \n",
    "            # if node is not in 'Open list', add it\n",
    "            if child not in Open:\n",
    "                Open.append(child)\n",
    "\n",
    "            if child in Open:\n",
    "                for node in Open:\n",
    "                    if node == child and node.f > child.f:\n",
    "                        node.f = child.f\n"
   ]
  },
  {
   "cell_type": "code",
   "execution_count": 7,
   "metadata": {
    "scrolled": false
   },
   "outputs": [
    {
     "name": "stdout",
     "output_type": "stream",
     "text": [
      "opt path :  [(10, 5), (10, 6), (10, 7), (10, 8), (10, 9), (10, 10), (10, 11), (10, 12), (10, 13), (10, 14), (10, 15), (10, 16), (10, 17), (10, 18), (10, 19), (10, 20), (10, 21), (10, 22), (10, 23), (10, 24), (10, 25), (10, 26), (10, 27), (10, 28), (10, 29), (10, 30), (10, 31), (11, 32), (12, 33), (13, 34), (14, 35), (15, 36), (16, 37), (17, 38), (18, 39), (19, 40), (20, 41), (21, 42), (22, 43), (23, 44), (24, 45), (25, 46), (26, 47), (27, 48), (28, 49), (29, 50), (30, 51), (31, 50), (31, 49), (31, 48), (31, 47), (31, 46), (31, 45), (31, 44), (31, 43), (31, 42), (31, 41), (31, 40), (31, 39), (31, 38), (31, 37), (31, 36), (31, 35), (31, 34), (31, 33), (31, 32), (31, 31), (31, 30), (32, 29), (33, 28), (34, 27), (35, 26), (36, 25), (37, 24), (38, 23), (39, 22), (40, 21), (41, 20), (42, 19), (43, 18), (44, 17), (45, 16), (46, 15), (47, 14), (48, 13), (49, 12), (50, 11), (51, 10), (50, 9), (49, 9), (48, 9), (47, 9), (46, 9), (45, 9), (44, 9), (43, 9), (42, 9), (41, 9), (40, 9), (39, 9), (38, 8), (37, 7), (36, 6), (35, 5)]\n",
      "opt_path_shape :  (104, 2)\n"
     ]
    },
    {
     "data": {
      "image/png": "[encoded data removed]",
      "text/plain": [
       "<Figure size 720x720 with 1 Axes>"
      ]
     },
     "metadata": {
      "needs_background": "light"
     },
     "output_type": "display_data"
    }
   ],
   "source": [
    "def main():\n",
    "    \n",
    "    # iNITIALIZE - 1)start, 2)goal, 3)map\n",
    "    start = (10, 5) \n",
    "    goal = (35, 5)\n",
    "    \n",
    "    ox, oy = [], []\n",
    "    \n",
    "    for i in range(61):\n",
    "        ox.append(i)\n",
    "        oy.append(0)\n",
    "    for i in range(61):\n",
    "        ox.append(0)\n",
    "        oy.append(i)\n",
    "    for i in range(61):\n",
    "        ox.append(i)\n",
    "        oy.append(60)\n",
    "    for i in range(60):\n",
    "        ox.append(60)\n",
    "        oy.append(i)\n",
    "    for i in range(51):\n",
    "        ox.append(30)\n",
    "        oy.append(i)\n",
    "    for i in range(21):\n",
    "        ox.append(30+i)\n",
    "        oy.append(10)\n",
    "    \n",
    "    omap = [ox, oy]\n",
    "\n",
    "    opt_path = a_star(start, goal, omap)\n",
    "    \n",
    "    opt_path = np.array(opt_path)\n",
    "\n",
    "    if show_animation == True:\n",
    "        plt.figure(figsize=(10,10))\n",
    "        plt.plot(start[0], start[1], 'bs',  markersize=7)\n",
    "        plt.text(start[0], start[1]+0.5, 'start', fontsize=12)\n",
    "        plt.plot(goal[0], goal[1], 'rs',  markersize=7)\n",
    "        plt.text(goal[0], goal[1]+0.5, 'goal', fontsize=12)\n",
    "\n",
    "        plt.plot(ox, oy, '.k',  markersize=10)\n",
    "        plt.grid(True)\n",
    "        plt.axis(\"equal\")\n",
    "        plt.plot(opt_path[:,0], opt_path[:,1], \"c.-\")\n",
    "        plt.xlabel(\"X\"), plt.ylabel(\"Y\")\n",
    "        plt.title(\"A star algorithm\", fontsize=20)\n",
    "        plt.show()\n",
    "    \n",
    "    \n",
    "if __name__ == \"__main__\":\n",
    "    main()"
   ]
  },
  {
   "cell_type": "code",
   "execution_count": null,
   "metadata": {},
   "outputs": [],
   "source": []
  },
  {
   "cell_type": "code",
   "execution_count": null,
   "metadata": {},
   "outputs": [],
   "source": []
  },
  {
   "cell_type": "code",
   "execution_count": null,
   "metadata": {},
   "outputs": [],
   "source": []
  },
  {
   "cell_type": "code",
   "execution_count": null,
   "metadata": {},
   "outputs": [],
   "source": []
  },
  {
   "cell_type": "code",
   "execution_count": null,
   "metadata": {},
   "outputs": [],
   "source": []
  },
  {
   "cell_type": "code",
   "execution_count": null,
   "metadata": {},
   "outputs": [],
   "source": []
  },
  {
   "cell_type": "code",
   "execution_count": null,
   "metadata": {},
   "outputs": [],
   "source": []
  },
  {
   "cell_type": "code",
   "execution_count": null,
   "metadata": {},
   "outputs": [],
   "source": []
  },
  {
   "cell_type": "code",
   "execution_count": null,
   "metadata": {},
   "outputs": [],
   "source": []
  },
  {
   "cell_type": "code",
   "execution_count": null,
   "metadata": {},
   "outputs": [],
   "source": []
  },
  {
   "cell_type": "code",
   "execution_count": null,
   "metadata": {},
   "outputs": [],
   "source": []
  }
 ],
 "metadata": {
  "kernelspec": {
   "display_name": "Python 3",
   "language": "python",
   "name": "python3"
  },
  "language_info": {
   "codemirror_mode": {
    "name": "ipython",
    "version": 3
   },
   "file_extension": ".py",
   "mimetype": "text/x-python",
   "name": "python",
   "nbconvert_exporter": "python",
   "pygments_lexer": "ipython3",
   "version": "3.6.5"
  }
 },
 "nbformat": 4,
 "nbformat_minor": 4
}
