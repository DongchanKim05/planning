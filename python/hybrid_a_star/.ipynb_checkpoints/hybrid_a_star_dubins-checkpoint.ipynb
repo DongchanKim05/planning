{
 "cells": [
  {
   "cell_type": "markdown",
   "metadata": {},
   "source": [
    "# Hybrid A star algorithm\n",
    "- control action : dubins path"
   ]
  },
  {
   "cell_type": "code",
   "execution_count": 1,
   "metadata": {},
   "outputs": [
    {
     "name": "stdout",
     "output_type": "stream",
     "text": [
      "MAX STEER ANGLE : 40 [deg], TURNING RADIUS : 4.77 [m] \n"
     ]
    }
   ],
   "source": [
    "import numpy as np\n",
    "import math\n",
    "import matplotlib.pyplot as plt\n",
    "from IPython.display import clear_output\n",
    "import random\n",
    "import time\n",
    "import sys\n",
    "sys.path.append(\"../\")\n",
    "from IPython.display import clear_output\n",
    "from dubins_path.dubins_path_expand import DubinsPath\n",
    "from scipy.spatial.transform import Rotation as Rot\n",
    "%matplotlib inline\n",
    "\n",
    "import warnings\n",
    "warnings.filterwarnings(\"ignore\", category=np.VisibleDeprecationWarning) "
   ]
  },
  {
   "cell_type": "code",
   "execution_count": 2,
   "metadata": {},
   "outputs": [],
   "source": [
    "DIST_TH = 1 # [m]\n",
    "YAW_TH = 5 # [deg]\n",
    "DX = 1 # [m]\n",
    "X_EXPAND = 4 # [m]\n",
    "L = 4 # [m]\n",
    "COL_TH = 1 # [m]\n",
    "\n",
    "XY_RESOLUTION = 2 # [m]\n",
    "YAW_RESOLUTION = 15 #[deg]\n",
    "\n",
    "MAP_X_LIM = [-30, 30]\n",
    "MAP_Y_LIM = [-30, 20]\n",
    "\n",
    "# Vehicle parameters - for plot \n",
    "gain = 4.5/3.9\n",
    "LENGTH = 3.9 * gain # [m]\n",
    "WIDTH = 1.9 * gain # [m]\n",
    "BACKTOWHEEL = 1 * gain # [m]\n",
    "WHEEL_LEN = 0.3 * gain # [m]\n",
    "WHEEL_WIDTH = 0.2 * gain  # [m]\n",
    "TREAD = 0.7 * gain # [m]\n",
    "WB = 2.2 * gain # [m]\n",
    "\n",
    "# Dubins path \n",
    "delta_max = 40 # max steering angle [deg]\n",
    "L = 4 # wheel base [m]\n",
    "r_turn = L / np.tan(delta_max * np.pi/180)\n",
    "\n",
    "H_COST = 5 # heuristic cost\n",
    "\n",
    "show_animation  = True"
   ]
  },
  {
   "cell_type": "code",
   "execution_count": 3,
   "metadata": {},
   "outputs": [],
   "source": [
    "def heading_norm(heading):\n",
    "    heading = np.arctan2(np.sin(np.deg2rad(heading)), np.cos(np.deg2rad(heading)))\n",
    "    return np.rad2deg(heading)"
   ]
  },
  {
   "cell_type": "code",
   "execution_count": 4,
   "metadata": {},
   "outputs": [],
   "source": [
    "class Node:\n",
    "    def __init__(self, x_ind, y_ind, yaw_ind, x_list, y_list, yaw_list, parent=None, position=None):\n",
    "        self.parent = parent\n",
    "        self.x = position[0]\n",
    "        self.y = position[1]\n",
    "        self.yaw = position[2]\n",
    "        self.yaw = heading_norm(self.yaw)\n",
    "\n",
    "        self.x_index = x_ind\n",
    "        self.y_index = y_ind    \n",
    "        self.yaw_index = yaw_ind\n",
    "        \n",
    "        self.x_list = x_list\n",
    "        self.y_list = y_list\n",
    "        self.yaw_list = yaw_list\n",
    "        \n",
    "        self.f = 0\n",
    "        self.g = 0\n",
    "        self.h = 0\n",
    "        \n",
    "    def __eq__(self, other):\n",
    "        if (self.x == other.x) and (self.y == other.y):\n",
    "            return True"
   ]
  },
  {
   "cell_type": "code",
   "execution_count": 5,
   "metadata": {},
   "outputs": [],
   "source": [
    "def heuristic(cur_node, goal_node):\n",
    "#     dist = np.sqrt((cur_node.x - goal_node.x)**2 + (cur_node.y  - goal_node.y)**2)\n",
    "    dist = np.sqrt((cur_node.x - goal_node.x)**2 + (cur_node.y  - goal_node.y)**2 + (np.deg2rad(cur_node.yaw  - goal_node.yaw))**2)\n",
    "    return dist "
   ]
  },
  {
   "cell_type": "code",
   "execution_count": 6,
   "metadata": {},
   "outputs": [],
   "source": [
    "def collision_check(omap, node):\n",
    "    nx = node[0]\n",
    "    ny = node[1]\n",
    "    ox = omap[0]\n",
    "    oy = omap[1]\n",
    "    \n",
    "    col = False\n",
    "\n",
    "    for i in range(len(ox)):\n",
    "        if np.sqrt((nx-ox[i])**2 + (ny-oy[i])**2) < np.sqrt(LENGTH**2/4 + WHEEL_WIDTH**2/4):\n",
    "            col = True\n",
    "            break\n",
    "            \n",
    "    if nx <= MAP_X_LIM[0] or nx >= MAP_X_LIM[1] or ny <= MAP_Y_LIM[0] or ny >= MAP_Y_LIM[1]:\n",
    "        col = True\n",
    "\n",
    "    return col"
   ]
  },
  {
   "cell_type": "code",
   "execution_count": 7,
   "metadata": {},
   "outputs": [],
   "source": [
    "def check_goal_condition(cur_node, goal_node):\n",
    "    cur_x = cur_node.x\n",
    "    cur_y = cur_node.y\n",
    "    cur_yaw = cur_node.yaw\n",
    "    \n",
    "    goal_x = goal_node.x\n",
    "    goal_y = goal_node.y\n",
    "    goal_yaw = goal_node.yaw\n",
    "    \n",
    "    xy_diff = np.sqrt((cur_x - goal_x)**2 + (cur_y - goal_y)**2)\n",
    "    yaw_diff = np.abs(cur_yaw - goal_yaw)\n",
    "    \n",
    "    if xy_diff < DIST_TH and yaw_diff < YAW_TH:\n",
    "        return True\n",
    "    else:\n",
    "        return False"
   ]
  },
  {
   "cell_type": "code",
   "execution_count": 8,
   "metadata": {},
   "outputs": [],
   "source": [
    "def plot_car(x, y, yaw, step, len_scene):  # pragma: no cover\n",
    "    yaw = np.deg2rad(yaw)\n",
    "    outline = np.array([[-BACKTOWHEEL, (LENGTH - BACKTOWHEEL), (LENGTH - BACKTOWHEEL), -BACKTOWHEEL, -BACKTOWHEEL],\n",
    "                        [WIDTH/2, WIDTH/2, - WIDTH/2, -WIDTH/2, WIDTH/2]])\n",
    "\n",
    "    triangle = np.array([[LENGTH/2, LENGTH/2, (LENGTH - BACKTOWHEEL), LENGTH/2],\n",
    "                        [WIDTH/2, -WIDTH/2, 0, WIDTH/2]])\n",
    "\n",
    "    Rot = np.array([[np.cos(yaw), np.sin(yaw)],\n",
    "                     [-np.sin(yaw), np.cos(yaw)]])\n",
    "\n",
    "    outline = (outline.T.dot(Rot)).T\n",
    "    outline[0, :] += x\n",
    "    outline[1, :] += y\n",
    "\n",
    "    plt.plot(np.array(outline[0, :]).flatten(),\n",
    "             np.array(outline[1, :]).flatten(), color='k', linewidth=0.6)\n",
    "    plt.fill_between(np.array(outline[0, :]).flatten(),\n",
    "             np.array(outline[1, :]).flatten(), facecolor='dodgerblue', alpha=step/(len_scene))\n",
    "\n",
    "    triangle = (triangle.T.dot(Rot)).T\n",
    "    triangle[0, :] += x\n",
    "    triangle[1, :] += y\n",
    "\n",
    "    plt.plot(np.array(triangle[0, :]).flatten(),\n",
    "             np.array(triangle[1, :]).flatten(), color='k', linewidth=0.6)\n",
    "    plt.fill_between(np.array(triangle[0, :]).flatten(),\n",
    "             np.array(triangle[1, :]).flatten(), facecolor='w', alpha=0.6)\n",
    "    \n",
    "    plt.plot(x, y, \"*\")"
   ]
  },
  {
   "cell_type": "code",
   "execution_count": 18,
   "metadata": {},
   "outputs": [],
   "source": [
    "# hybrid a star algorithm\n",
    "def hybrid_a_star(start, goal, omap):\n",
    "    \n",
    "    # initialize\n",
    "    start_node = Node(round(start[0]/XY_RESOLUTION), \n",
    "                      round(start[1]/XY_RESOLUTION), \n",
    "                      round(start[2]/YAW_RESOLUTION), \n",
    "                      [start[0]], [start[1]], [start[2]],\n",
    "                      None, start)\n",
    "    \n",
    "    goal_node = Node(round(goal[0]/XY_RESOLUTION), \n",
    "                      round(goal[1]/XY_RESOLUTION), \n",
    "                      round(goal[2]/YAW_RESOLUTION), \n",
    "                      [goal[0]], [goal[1]], [goal[2]],\n",
    "                      None, goal)\n",
    "\n",
    "    Open = []\n",
    "    Closed = []\n",
    "\n",
    "    Open.append(start_node)\n",
    "    \n",
    "    while Open is not None:\n",
    "        # find current node with lowest f in 'Open list'\n",
    "        cur_node = Open[0]\n",
    "        cur_ind = 0\n",
    "        for ind, node in enumerate(Open):\n",
    "            if node.f < cur_node.f:\n",
    "                cur_node = node\n",
    "                cur_ind = ind\n",
    "\n",
    "        # If goal, get optimal path\n",
    "        goal_condition = check_goal_condition(cur_node, goal_node)\n",
    "        if goal_condition == True:\n",
    "            opt_path = []\n",
    "\n",
    "            node = cur_node\n",
    "\n",
    "            while node is not None:\n",
    "                _x_array = np.array(node.x_list)\n",
    "                _y_array = np.array(node.y_list)\n",
    "                _yaw_array = np.array(node.yaw_list)\n",
    "                opt_path.append((_x_array, _y_array, _yaw_array))\n",
    "                node = node.parent\n",
    "            return opt_path[::-1]\n",
    "\n",
    "        # if not goal, delete from 'Open list' and add to 'Closed list'\n",
    "        Open.pop(cur_ind)\n",
    "        Closed.append(cur_node)\n",
    "        \n",
    "        '''\n",
    "        Dubins path expansion\n",
    "        '''\n",
    "        init_state = [cur_node.x, cur_node.y, cur_node.yaw * (np.pi/180)]\n",
    "        goal_state = [goal_node.x, goal_node.y, goal_node.yaw * (np.pi/180)]\n",
    "        x_list, y_list = [], []\n",
    "        dubins = DubinsPath(init_state, goal_state, r_turn)\n",
    "        dubins.set_dubins_path(step_size=X_EXPAND)\n",
    "\n",
    "        # ---- search child nodes\n",
    "        for path in dubins.path:\n",
    "            if path:\n",
    "                xs, ys, thetas = DubinsPath.gen_dubins_path(init_state, path, r_turn)\n",
    "\n",
    "                x_list = []\n",
    "                y_list = []\n",
    "                theta_list = []\n",
    "                for i in range(len(xs)):\n",
    "                    for j in range(len(xs[i])):\n",
    "                        x_list.append(xs[i][j])\n",
    "                        y_list.append(ys[i][j])\n",
    "                        theta_list.append(thetas[i][j])\n",
    "\n",
    "                child_cand = (x_list[-1], y_list[-1], theta_list[-1])\n",
    "                is_collid = False\n",
    "                for i in range(len(x_list)):\n",
    "                    _child_cand = (x_list[i], y_list[i], theta_list[i])\n",
    "                    if collision_check(omap, _child_cand):\n",
    "                        is_collid = True\n",
    "\n",
    "                # create new node\n",
    "                if is_collid == False:\n",
    "                    is_in = 0\n",
    "                    for ind, node in enumerate(Open):\n",
    "                        if node.x_index == round(child_cand[0]/XY_RESOLUTION) \\\n",
    "                        and node.y_index == round(child_cand[1]/XY_RESOLUTION) \\\n",
    "                        and node.yaw_index == round(child_cand[2]/YAW_RESOLUTION):\n",
    "                            is_in += 1\n",
    "                        else:\n",
    "                            is_in += 0\n",
    "\n",
    "                    if is_in == 0:\n",
    "                        child = Node(round(child_cand[0]/XY_RESOLUTION), \n",
    "                                             round(child_cand[1]/XY_RESOLUTION), \n",
    "                                             round(child_cand[2]/YAW_RESOLUTION), \n",
    "                                             x_list, y_list, theta_list,\n",
    "                                             parent=cur_node, position=child_cand)\n",
    "\n",
    "                        plt.plot(child.x, child.y, 'yo',  markersize=7, alpha=0.3)\n",
    "\n",
    "                        # If in 'Closed list', continue \n",
    "                        if child in Closed:\n",
    "                            continue\n",
    "\n",
    "                        yaw_diff = np.deg2rad(np.abs(cur_node.yaw - child.yaw))\n",
    "                        child.g = cur_node.g + X_EXPAND# + 5*yaw_diff\n",
    "                        child.h = H_COST * heuristic(child, goal_node) \n",
    "                        child.f = child.g + child.h\n",
    "\n",
    "                        # if node is not in 'Open list', add it\n",
    "                        if child not in Open:\n",
    "                            Open.append(child)\n",
    "\n",
    "                        if child in Open:\n",
    "                            for node in Open:\n",
    "                                if node == child and node.f > child.f:\n",
    "                                    node.f = child.f\n"
   ]
  },
  {
   "cell_type": "code",
   "execution_count": 19,
   "metadata": {
    "scrolled": false
   },
   "outputs": [
    {
     "ename": "KeyboardInterrupt",
     "evalue": "",
     "output_type": "error",
     "traceback": [
      "\u001b[1;31m---------------------------------------------------------------------------\u001b[0m",
      "\u001b[1;31mKeyboardInterrupt\u001b[0m                         Traceback (most recent call last)",
      "\u001b[1;32m<ipython-input-19-f17ca85be0b2>\u001b[0m in \u001b[0;36m<module>\u001b[1;34m\u001b[0m\n\u001b[0;32m     53\u001b[0m \u001b[1;33m\u001b[0m\u001b[0m\n\u001b[0;32m     54\u001b[0m \u001b[1;32mif\u001b[0m \u001b[0m__name__\u001b[0m \u001b[1;33m==\u001b[0m \u001b[1;34m\"__main__\"\u001b[0m\u001b[1;33m:\u001b[0m\u001b[1;33m\u001b[0m\u001b[0m\n\u001b[1;32m---> 55\u001b[1;33m     \u001b[0mmain\u001b[0m\u001b[1;33m(\u001b[0m\u001b[1;33m)\u001b[0m\u001b[1;33m\u001b[0m\u001b[0m\n\u001b[0m",
      "\u001b[1;32m<ipython-input-19-f17ca85be0b2>\u001b[0m in \u001b[0;36mmain\u001b[1;34m()\u001b[0m\n\u001b[0;32m     23\u001b[0m     \u001b[0mplt\u001b[0m\u001b[1;33m.\u001b[0m\u001b[0mfigure\u001b[0m\u001b[1;33m(\u001b[0m\u001b[0mfigsize\u001b[0m\u001b[1;33m=\u001b[0m\u001b[1;33m(\u001b[0m\u001b[1;36m15\u001b[0m\u001b[1;33m,\u001b[0m\u001b[1;36m15\u001b[0m\u001b[1;33m)\u001b[0m\u001b[1;33m)\u001b[0m\u001b[1;33m\u001b[0m\u001b[0m\n\u001b[0;32m     24\u001b[0m \u001b[1;33m\u001b[0m\u001b[0m\n\u001b[1;32m---> 25\u001b[1;33m     \u001b[0mopt_path\u001b[0m \u001b[1;33m=\u001b[0m \u001b[0mhybrid_a_star\u001b[0m\u001b[1;33m(\u001b[0m\u001b[0mstart\u001b[0m\u001b[1;33m,\u001b[0m \u001b[0mgoal\u001b[0m\u001b[1;33m,\u001b[0m \u001b[0momap\u001b[0m\u001b[1;33m)\u001b[0m\u001b[1;33m\u001b[0m\u001b[0m\n\u001b[0m\u001b[0;32m     26\u001b[0m \u001b[1;33m\u001b[0m\u001b[0m\n\u001b[0;32m     27\u001b[0m     \u001b[0mopt_path\u001b[0m \u001b[1;33m=\u001b[0m \u001b[0mnp\u001b[0m\u001b[1;33m.\u001b[0m\u001b[0marray\u001b[0m\u001b[1;33m(\u001b[0m\u001b[0mopt_path\u001b[0m\u001b[1;33m)\u001b[0m\u001b[1;33m\u001b[0m\u001b[0m\n",
      "\u001b[1;32m<ipython-input-18-b703fac4405d>\u001b[0m in \u001b[0;36mhybrid_a_star\u001b[1;34m(start, goal, omap)\u001b[0m\n\u001b[0;32m     96\u001b[0m                                              parent=cur_node, position=child_cand)\n\u001b[0;32m     97\u001b[0m \u001b[1;33m\u001b[0m\u001b[0m\n\u001b[1;32m---> 98\u001b[1;33m                         \u001b[0mplt\u001b[0m\u001b[1;33m.\u001b[0m\u001b[0mplot\u001b[0m\u001b[1;33m(\u001b[0m\u001b[0mchild\u001b[0m\u001b[1;33m.\u001b[0m\u001b[0mx\u001b[0m\u001b[1;33m,\u001b[0m \u001b[0mchild\u001b[0m\u001b[1;33m.\u001b[0m\u001b[0my\u001b[0m\u001b[1;33m,\u001b[0m \u001b[1;34m'yo'\u001b[0m\u001b[1;33m,\u001b[0m  \u001b[0mmarkersize\u001b[0m\u001b[1;33m=\u001b[0m\u001b[1;36m7\u001b[0m\u001b[1;33m,\u001b[0m \u001b[0malpha\u001b[0m\u001b[1;33m=\u001b[0m\u001b[1;36m0.3\u001b[0m\u001b[1;33m)\u001b[0m\u001b[1;33m\u001b[0m\u001b[0m\n\u001b[0m\u001b[0;32m     99\u001b[0m \u001b[1;33m\u001b[0m\u001b[0m\n\u001b[0;32m    100\u001b[0m                         \u001b[1;31m# If in 'Closed list', continue\u001b[0m\u001b[1;33m\u001b[0m\u001b[1;33m\u001b[0m\u001b[0m\n",
      "\u001b[1;32m~\\Anaconda3\\lib\\site-packages\\matplotlib\\pyplot.py\u001b[0m in \u001b[0;36mplot\u001b[1;34m(scalex, scaley, data, *args, **kwargs)\u001b[0m\n\u001b[0;32m   2761\u001b[0m     return gca().plot(\n\u001b[0;32m   2762\u001b[0m         *args, scalex=scalex, scaley=scaley, **({\"data\": data} if data\n\u001b[1;32m-> 2763\u001b[1;33m         is not None else {}), **kwargs)\n\u001b[0m\u001b[0;32m   2764\u001b[0m \u001b[1;33m\u001b[0m\u001b[0m\n\u001b[0;32m   2765\u001b[0m \u001b[1;33m\u001b[0m\u001b[0m\n",
      "\u001b[1;32m~\\Anaconda3\\lib\\site-packages\\matplotlib\\axes\\_axes.py\u001b[0m in \u001b[0;36mplot\u001b[1;34m(self, scalex, scaley, data, *args, **kwargs)\u001b[0m\n\u001b[0;32m   1645\u001b[0m         \"\"\"\n\u001b[0;32m   1646\u001b[0m         \u001b[0mkwargs\u001b[0m \u001b[1;33m=\u001b[0m \u001b[0mcbook\u001b[0m\u001b[1;33m.\u001b[0m\u001b[0mnormalize_kwargs\u001b[0m\u001b[1;33m(\u001b[0m\u001b[0mkwargs\u001b[0m\u001b[1;33m,\u001b[0m \u001b[0mmlines\u001b[0m\u001b[1;33m.\u001b[0m\u001b[0mLine2D\u001b[0m\u001b[1;33m)\u001b[0m\u001b[1;33m\u001b[0m\u001b[0m\n\u001b[1;32m-> 1647\u001b[1;33m         \u001b[0mlines\u001b[0m \u001b[1;33m=\u001b[0m \u001b[1;33m[\u001b[0m\u001b[1;33m*\u001b[0m\u001b[0mself\u001b[0m\u001b[1;33m.\u001b[0m\u001b[0m_get_lines\u001b[0m\u001b[1;33m(\u001b[0m\u001b[1;33m*\u001b[0m\u001b[0margs\u001b[0m\u001b[1;33m,\u001b[0m \u001b[0mdata\u001b[0m\u001b[1;33m=\u001b[0m\u001b[0mdata\u001b[0m\u001b[1;33m,\u001b[0m \u001b[1;33m**\u001b[0m\u001b[0mkwargs\u001b[0m\u001b[1;33m)\u001b[0m\u001b[1;33m]\u001b[0m\u001b[1;33m\u001b[0m\u001b[0m\n\u001b[0m\u001b[0;32m   1648\u001b[0m         \u001b[1;32mfor\u001b[0m \u001b[0mline\u001b[0m \u001b[1;32min\u001b[0m \u001b[0mlines\u001b[0m\u001b[1;33m:\u001b[0m\u001b[1;33m\u001b[0m\u001b[0m\n\u001b[0;32m   1649\u001b[0m             \u001b[0mself\u001b[0m\u001b[1;33m.\u001b[0m\u001b[0madd_line\u001b[0m\u001b[1;33m(\u001b[0m\u001b[0mline\u001b[0m\u001b[1;33m)\u001b[0m\u001b[1;33m\u001b[0m\u001b[0m\n",
      "\u001b[1;32m~\\Anaconda3\\lib\\site-packages\\matplotlib\\axes\\_base.py\u001b[0m in \u001b[0;36m__call__\u001b[1;34m(self, *args, **kwargs)\u001b[0m\n\u001b[0;32m    214\u001b[0m                 \u001b[0mthis\u001b[0m \u001b[1;33m+=\u001b[0m \u001b[0margs\u001b[0m\u001b[1;33m[\u001b[0m\u001b[1;36m0\u001b[0m\u001b[1;33m]\u001b[0m\u001b[1;33m,\u001b[0m\u001b[1;33m\u001b[0m\u001b[0m\n\u001b[0;32m    215\u001b[0m                 \u001b[0margs\u001b[0m \u001b[1;33m=\u001b[0m \u001b[0margs\u001b[0m\u001b[1;33m[\u001b[0m\u001b[1;36m1\u001b[0m\u001b[1;33m:\u001b[0m\u001b[1;33m]\u001b[0m\u001b[1;33m\u001b[0m\u001b[0m\n\u001b[1;32m--> 216\u001b[1;33m             \u001b[1;32myield\u001b[0m \u001b[1;32mfrom\u001b[0m \u001b[0mself\u001b[0m\u001b[1;33m.\u001b[0m\u001b[0m_plot_args\u001b[0m\u001b[1;33m(\u001b[0m\u001b[0mthis\u001b[0m\u001b[1;33m,\u001b[0m \u001b[0mkwargs\u001b[0m\u001b[1;33m)\u001b[0m\u001b[1;33m\u001b[0m\u001b[0m\n\u001b[0m\u001b[0;32m    217\u001b[0m \u001b[1;33m\u001b[0m\u001b[0m\n\u001b[0;32m    218\u001b[0m     \u001b[1;32mdef\u001b[0m \u001b[0mget_next_color\u001b[0m\u001b[1;33m(\u001b[0m\u001b[0mself\u001b[0m\u001b[1;33m)\u001b[0m\u001b[1;33m:\u001b[0m\u001b[1;33m\u001b[0m\u001b[0m\n",
      "\u001b[1;32m~\\Anaconda3\\lib\\site-packages\\matplotlib\\axes\\_base.py\u001b[0m in \u001b[0;36m_plot_args\u001b[1;34m(self, tup, kwargs)\u001b[0m\n\u001b[0;32m    362\u001b[0m                 \"non-matching shapes is deprecated.\")\n\u001b[0;32m    363\u001b[0m         return [func(x[:, j % ncx], y[:, j % ncy], kw, kwargs)\n\u001b[1;32m--> 364\u001b[1;33m                 for j in range(max(ncx, ncy))]\n\u001b[0m\u001b[0;32m    365\u001b[0m \u001b[1;33m\u001b[0m\u001b[0m\n\u001b[0;32m    366\u001b[0m \u001b[1;33m\u001b[0m\u001b[0m\n",
      "\u001b[1;32m~\\Anaconda3\\lib\\site-packages\\matplotlib\\axes\\_base.py\u001b[0m in \u001b[0;36m<listcomp>\u001b[1;34m(.0)\u001b[0m\n\u001b[0;32m    362\u001b[0m                 \"non-matching shapes is deprecated.\")\n\u001b[0;32m    363\u001b[0m         return [func(x[:, j % ncx], y[:, j % ncy], kw, kwargs)\n\u001b[1;32m--> 364\u001b[1;33m                 for j in range(max(ncx, ncy))]\n\u001b[0m\u001b[0;32m    365\u001b[0m \u001b[1;33m\u001b[0m\u001b[0m\n\u001b[0;32m    366\u001b[0m \u001b[1;33m\u001b[0m\u001b[0m\n",
      "\u001b[1;32m~\\Anaconda3\\lib\\site-packages\\matplotlib\\axes\\_base.py\u001b[0m in \u001b[0;36m_makeline\u001b[1;34m(self, x, y, kw, kwargs)\u001b[0m\n\u001b[0;32m    253\u001b[0m         \u001b[0mdefault_dict\u001b[0m \u001b[1;33m=\u001b[0m \u001b[0mself\u001b[0m\u001b[1;33m.\u001b[0m\u001b[0m_getdefaults\u001b[0m\u001b[1;33m(\u001b[0m\u001b[0mset\u001b[0m\u001b[1;33m(\u001b[0m\u001b[1;33m)\u001b[0m\u001b[1;33m,\u001b[0m \u001b[0mkw\u001b[0m\u001b[1;33m)\u001b[0m\u001b[1;33m\u001b[0m\u001b[0m\n\u001b[0;32m    254\u001b[0m         \u001b[0mself\u001b[0m\u001b[1;33m.\u001b[0m\u001b[0m_setdefaults\u001b[0m\u001b[1;33m(\u001b[0m\u001b[0mdefault_dict\u001b[0m\u001b[1;33m,\u001b[0m \u001b[0mkw\u001b[0m\u001b[1;33m)\u001b[0m\u001b[1;33m\u001b[0m\u001b[0m\n\u001b[1;32m--> 255\u001b[1;33m         \u001b[0mseg\u001b[0m \u001b[1;33m=\u001b[0m \u001b[0mmlines\u001b[0m\u001b[1;33m.\u001b[0m\u001b[0mLine2D\u001b[0m\u001b[1;33m(\u001b[0m\u001b[0mx\u001b[0m\u001b[1;33m,\u001b[0m \u001b[0my\u001b[0m\u001b[1;33m,\u001b[0m \u001b[1;33m**\u001b[0m\u001b[0mkw\u001b[0m\u001b[1;33m)\u001b[0m\u001b[1;33m\u001b[0m\u001b[0m\n\u001b[0m\u001b[0;32m    256\u001b[0m         \u001b[1;32mreturn\u001b[0m \u001b[0mseg\u001b[0m\u001b[1;33m\u001b[0m\u001b[0m\n\u001b[0;32m    257\u001b[0m \u001b[1;33m\u001b[0m\u001b[0m\n",
      "\u001b[1;32m~\\Anaconda3\\lib\\site-packages\\matplotlib\\lines.py\u001b[0m in \u001b[0;36m__init__\u001b[1;34m(self, xdata, ydata, linewidth, linestyle, color, marker, markersize, markeredgewidth, markeredgecolor, markerfacecolor, markerfacecoloralt, fillstyle, antialiased, dash_capstyle, solid_capstyle, dash_joinstyle, solid_joinstyle, pickradius, drawstyle, markevery, **kwargs)\u001b[0m\n\u001b[0;32m    376\u001b[0m         \u001b[0mself\u001b[0m\u001b[1;33m.\u001b[0m\u001b[0m_color\u001b[0m \u001b[1;33m=\u001b[0m \u001b[1;32mNone\u001b[0m\u001b[1;33m\u001b[0m\u001b[0m\n\u001b[0;32m    377\u001b[0m         \u001b[0mself\u001b[0m\u001b[1;33m.\u001b[0m\u001b[0mset_color\u001b[0m\u001b[1;33m(\u001b[0m\u001b[0mcolor\u001b[0m\u001b[1;33m)\u001b[0m\u001b[1;33m\u001b[0m\u001b[0m\n\u001b[1;32m--> 378\u001b[1;33m         \u001b[0mself\u001b[0m\u001b[1;33m.\u001b[0m\u001b[0m_marker\u001b[0m \u001b[1;33m=\u001b[0m \u001b[0mMarkerStyle\u001b[0m\u001b[1;33m(\u001b[0m\u001b[0mmarker\u001b[0m\u001b[1;33m,\u001b[0m \u001b[0mfillstyle\u001b[0m\u001b[1;33m)\u001b[0m\u001b[1;33m\u001b[0m\u001b[0m\n\u001b[0m\u001b[0;32m    379\u001b[0m \u001b[1;33m\u001b[0m\u001b[0m\n\u001b[0;32m    380\u001b[0m         \u001b[0mself\u001b[0m\u001b[1;33m.\u001b[0m\u001b[0m_markevery\u001b[0m \u001b[1;33m=\u001b[0m \u001b[1;32mNone\u001b[0m\u001b[1;33m\u001b[0m\u001b[0m\n",
      "\u001b[1;32m~\\Anaconda3\\lib\\site-packages\\matplotlib\\markers.py\u001b[0m in \u001b[0;36m__init__\u001b[1;34m(self, marker, fillstyle)\u001b[0m\n\u001b[0;32m    223\u001b[0m         \u001b[0mself\u001b[0m\u001b[1;33m.\u001b[0m\u001b[0m_marker_function\u001b[0m \u001b[1;33m=\u001b[0m \u001b[1;32mNone\u001b[0m\u001b[1;33m\u001b[0m\u001b[0m\n\u001b[0;32m    224\u001b[0m         \u001b[0mself\u001b[0m\u001b[1;33m.\u001b[0m\u001b[0mset_fillstyle\u001b[0m\u001b[1;33m(\u001b[0m\u001b[0mfillstyle\u001b[0m\u001b[1;33m)\u001b[0m\u001b[1;33m\u001b[0m\u001b[0m\n\u001b[1;32m--> 225\u001b[1;33m         \u001b[0mself\u001b[0m\u001b[1;33m.\u001b[0m\u001b[0mset_marker\u001b[0m\u001b[1;33m(\u001b[0m\u001b[0mmarker\u001b[0m\u001b[1;33m)\u001b[0m\u001b[1;33m\u001b[0m\u001b[0m\n\u001b[0m\u001b[0;32m    226\u001b[0m \u001b[1;33m\u001b[0m\u001b[0m\n\u001b[0;32m    227\u001b[0m     \u001b[1;32mdef\u001b[0m \u001b[0m_recache\u001b[0m\u001b[1;33m(\u001b[0m\u001b[0mself\u001b[0m\u001b[1;33m)\u001b[0m\u001b[1;33m:\u001b[0m\u001b[1;33m\u001b[0m\u001b[0m\n",
      "\u001b[1;32m~\\Anaconda3\\lib\\site-packages\\matplotlib\\markers.py\u001b[0m in \u001b[0;36mset_marker\u001b[1;34m(self, marker)\u001b[0m\n\u001b[0;32m    294\u001b[0m \u001b[1;33m\u001b[0m\u001b[0m\n\u001b[0;32m    295\u001b[0m         \u001b[0mself\u001b[0m\u001b[1;33m.\u001b[0m\u001b[0m_marker\u001b[0m \u001b[1;33m=\u001b[0m \u001b[0mmarker\u001b[0m\u001b[1;33m\u001b[0m\u001b[0m\n\u001b[1;32m--> 296\u001b[1;33m         \u001b[0mself\u001b[0m\u001b[1;33m.\u001b[0m\u001b[0m_recache\u001b[0m\u001b[1;33m(\u001b[0m\u001b[1;33m)\u001b[0m\u001b[1;33m\u001b[0m\u001b[0m\n\u001b[0m\u001b[0;32m    297\u001b[0m \u001b[1;33m\u001b[0m\u001b[0m\n\u001b[0;32m    298\u001b[0m     \u001b[1;32mdef\u001b[0m \u001b[0mget_path\u001b[0m\u001b[1;33m(\u001b[0m\u001b[0mself\u001b[0m\u001b[1;33m)\u001b[0m\u001b[1;33m:\u001b[0m\u001b[1;33m\u001b[0m\u001b[0m\n",
      "\u001b[1;32m~\\Anaconda3\\lib\\site-packages\\matplotlib\\markers.py\u001b[0m in \u001b[0;36m_recache\u001b[1;34m(self)\u001b[0m\n\u001b[0;32m    236\u001b[0m         \u001b[0mself\u001b[0m\u001b[1;33m.\u001b[0m\u001b[0m_capstyle\u001b[0m \u001b[1;33m=\u001b[0m \u001b[1;34m'butt'\u001b[0m\u001b[1;33m\u001b[0m\u001b[0m\n\u001b[0;32m    237\u001b[0m         \u001b[0mself\u001b[0m\u001b[1;33m.\u001b[0m\u001b[0m_filled\u001b[0m \u001b[1;33m=\u001b[0m \u001b[1;32mTrue\u001b[0m\u001b[1;33m\u001b[0m\u001b[0m\n\u001b[1;32m--> 238\u001b[1;33m         \u001b[0mself\u001b[0m\u001b[1;33m.\u001b[0m\u001b[0m_marker_function\u001b[0m\u001b[1;33m(\u001b[0m\u001b[1;33m)\u001b[0m\u001b[1;33m\u001b[0m\u001b[0m\n\u001b[0m\u001b[0;32m    239\u001b[0m \u001b[1;33m\u001b[0m\u001b[0m\n\u001b[0;32m    240\u001b[0m     \u001b[1;32mdef\u001b[0m \u001b[0m__bool__\u001b[0m\u001b[1;33m(\u001b[0m\u001b[0mself\u001b[0m\u001b[1;33m)\u001b[0m\u001b[1;33m:\u001b[0m\u001b[1;33m\u001b[0m\u001b[0m\n",
      "\u001b[1;32m~\\Anaconda3\\lib\\site-packages\\matplotlib\\markers.py\u001b[0m in \u001b[0;36m_set_circle\u001b[1;34m(self, reduction)\u001b[0m\n\u001b[0;32m    381\u001b[0m \u001b[1;33m\u001b[0m\u001b[0m\n\u001b[0;32m    382\u001b[0m     \u001b[1;32mdef\u001b[0m \u001b[0m_set_circle\u001b[0m\u001b[1;33m(\u001b[0m\u001b[0mself\u001b[0m\u001b[1;33m,\u001b[0m \u001b[0mreduction\u001b[0m\u001b[1;33m=\u001b[0m\u001b[1;36m1.0\u001b[0m\u001b[1;33m)\u001b[0m\u001b[1;33m:\u001b[0m\u001b[1;33m\u001b[0m\u001b[0m\n\u001b[1;32m--> 383\u001b[1;33m         \u001b[0mself\u001b[0m\u001b[1;33m.\u001b[0m\u001b[0m_transform\u001b[0m \u001b[1;33m=\u001b[0m \u001b[0mAffine2D\u001b[0m\u001b[1;33m(\u001b[0m\u001b[1;33m)\u001b[0m\u001b[1;33m.\u001b[0m\u001b[0mscale\u001b[0m\u001b[1;33m(\u001b[0m\u001b[1;36m0.5\u001b[0m \u001b[1;33m*\u001b[0m \u001b[0mreduction\u001b[0m\u001b[1;33m)\u001b[0m\u001b[1;33m\u001b[0m\u001b[0m\n\u001b[0m\u001b[0;32m    384\u001b[0m         \u001b[0mself\u001b[0m\u001b[1;33m.\u001b[0m\u001b[0m_snap_threshold\u001b[0m \u001b[1;33m=\u001b[0m \u001b[0mnp\u001b[0m\u001b[1;33m.\u001b[0m\u001b[0minf\u001b[0m\u001b[1;33m\u001b[0m\u001b[0m\n\u001b[0;32m    385\u001b[0m         \u001b[0mfs\u001b[0m \u001b[1;33m=\u001b[0m \u001b[0mself\u001b[0m\u001b[1;33m.\u001b[0m\u001b[0mget_fillstyle\u001b[0m\u001b[1;33m(\u001b[0m\u001b[1;33m)\u001b[0m\u001b[1;33m\u001b[0m\u001b[0m\n",
      "\u001b[1;32m~\\Anaconda3\\lib\\site-packages\\matplotlib\\transforms.py\u001b[0m in \u001b[0;36mscale\u001b[1;34m(self, sx, sy)\u001b[0m\n\u001b[0;32m   1999\u001b[0m         scale_mtx = np.array(\n\u001b[0;32m   2000\u001b[0m             [[sx, 0.0, 0.0], [0.0, sy, 0.0], [0.0, 0.0, 1.0]], float)\n\u001b[1;32m-> 2001\u001b[1;33m         \u001b[0mself\u001b[0m\u001b[1;33m.\u001b[0m\u001b[0m_mtx\u001b[0m \u001b[1;33m=\u001b[0m \u001b[0mnp\u001b[0m\u001b[1;33m.\u001b[0m\u001b[0mdot\u001b[0m\u001b[1;33m(\u001b[0m\u001b[0mscale_mtx\u001b[0m\u001b[1;33m,\u001b[0m \u001b[0mself\u001b[0m\u001b[1;33m.\u001b[0m\u001b[0m_mtx\u001b[0m\u001b[1;33m)\u001b[0m\u001b[1;33m\u001b[0m\u001b[0m\n\u001b[0m\u001b[0;32m   2002\u001b[0m         \u001b[0mself\u001b[0m\u001b[1;33m.\u001b[0m\u001b[0minvalidate\u001b[0m\u001b[1;33m(\u001b[0m\u001b[1;33m)\u001b[0m\u001b[1;33m\u001b[0m\u001b[0m\n\u001b[0;32m   2003\u001b[0m         \u001b[1;32mreturn\u001b[0m \u001b[0mself\u001b[0m\u001b[1;33m\u001b[0m\u001b[0m\n",
      "\u001b[1;32m<__array_function__ internals>\u001b[0m in \u001b[0;36mdot\u001b[1;34m(*args, **kwargs)\u001b[0m\n",
      "\u001b[1;31mKeyboardInterrupt\u001b[0m: "
     ]
    },
    {
     "data": {
      "image/png": "[encoded data removed]",
      "text/plain": [
       "<Figure size 1080x1080 with 1 Axes>"
      ]
     },
     "metadata": {
      "needs_background": "light"
     },
     "output_type": "display_data"
    }
   ],
   "source": [
    "def main():\n",
    "    \n",
    "    # INITIALIZE - 1)start, 2)goal, 3)map\n",
    "    start = (-20, -20, 0) \n",
    "    goal = (25, -10, 0)\n",
    "    ox, oy = [], []\n",
    "    for i in range(20):\n",
    "        ox.append(0)\n",
    "        oy.append(i)\n",
    "        ox.append(0)\n",
    "        oy.append(-i)\n",
    "        \n",
    "    for i in range(35):\n",
    "        ox.append(-10)\n",
    "        oy.append(-i)\n",
    "        \n",
    "    for i in np.arange(0,35):\n",
    "        ox.append(15)\n",
    "        oy.append(-i)        \n",
    "        \n",
    "    omap = [ox, oy]\n",
    "\n",
    "    plt.figure(figsize=(15,15))\n",
    "    \n",
    "    opt_path = hybrid_a_star(start, goal, omap)\n",
    "    \n",
    "    opt_path = np.array(opt_path)\n",
    "\n",
    "    if show_animation == True:\n",
    "#         plt.figure(figsize=(10,10))\n",
    "        plt.plot(ox, oy, '.k',  markersize=10)  \n",
    "        for i in range(len(opt_path)):\n",
    "            _path_x = opt_path[i][0]\n",
    "            _path_y = opt_path[i][1]\n",
    "            _path_yaw = opt_path[i][2]\n",
    "\n",
    "            plt.plot(_path_x, _path_y, \"g.-\")\n",
    "            plot_car(_path_x[-1], _path_y[-1], _path_yaw[-1], i, len(opt_path))\n",
    "            \n",
    "        plt.plot(start[0], start[1], 'bs',  markersize=7)\n",
    "        plt.text(start[0], start[1]+0.5, 'start', fontsize=12)\n",
    "        plt.plot(goal[0], goal[1], 'rs',  markersize=7)\n",
    "        plt.text(goal[0], goal[1]+0.5, 'goal', fontsize=12)     \n",
    "        plt.arrow(start[0], start[1], np.cos(np.deg2rad(start[2])), np.sin(np.deg2rad(start[2])), fc='b', ec='b', head_width=1, head_length=1)\n",
    "        plt.arrow(goal[0], goal[1], np.cos(np.deg2rad(goal[2])), np.sin(np.deg2rad(goal[2])), fc='r', ec='r', head_width=1, head_length=1)\n",
    "        \n",
    "        plt.grid(True)\n",
    "        plt.axis(\"equal\")\n",
    "        plt.xlabel(\"X [m]\", fontsize=15), plt.ylabel(\"Y [m]\", fontsize=15)\n",
    "        plt.title(\"Hybrid A star algorithm \\n [control actions : Dubins path]\", fontsize=20)\n",
    "        plt.show()\n",
    "    \n",
    "    \n",
    "if __name__ == \"__main__\":\n",
    "    main()"
   ]
  },
  {
   "cell_type": "code",
   "execution_count": null,
   "metadata": {},
   "outputs": [],
   "source": []
  },
  {
   "cell_type": "code",
   "execution_count": null,
   "metadata": {},
   "outputs": [],
   "source": []
  },
  {
   "cell_type": "code",
   "execution_count": null,
   "metadata": {},
   "outputs": [],
   "source": []
  },
  {
   "cell_type": "code",
   "execution_count": null,
   "metadata": {},
   "outputs": [],
   "source": []
  },
  {
   "cell_type": "code",
   "execution_count": null,
   "metadata": {},
   "outputs": [],
   "source": []
  },
  {
   "cell_type": "code",
   "execution_count": null,
   "metadata": {},
   "outputs": [],
   "source": []
  },
  {
   "cell_type": "code",
   "execution_count": null,
   "metadata": {},
   "outputs": [],
   "source": []
  },
  {
   "cell_type": "code",
   "execution_count": null,
   "metadata": {},
   "outputs": [],
   "source": []
  },
  {
   "cell_type": "code",
   "execution_count": null,
   "metadata": {},
   "outputs": [],
   "source": []
  },
  {
   "cell_type": "code",
   "execution_count": null,
   "metadata": {},
   "outputs": [],
   "source": []
  },
  {
   "cell_type": "code",
   "execution_count": null,
   "metadata": {},
   "outputs": [],
   "source": []
  },
  {
   "cell_type": "code",
   "execution_count": null,
   "metadata": {},
   "outputs": [],
   "source": []
  },
  {
   "cell_type": "code",
   "execution_count": null,
   "metadata": {},
   "outputs": [],
   "source": []
  },
  {
   "cell_type": "code",
   "execution_count": null,
   "metadata": {},
   "outputs": [],
   "source": []
  },
  {
   "cell_type": "code",
   "execution_count": null,
   "metadata": {},
   "outputs": [],
   "source": []
  },
  {
   "cell_type": "code",
   "execution_count": null,
   "metadata": {},
   "outputs": [],
   "source": []
  },
  {
   "cell_type": "code",
   "execution_count": null,
   "metadata": {},
   "outputs": [],
   "source": []
  },
  {
   "cell_type": "code",
   "execution_count": null,
   "metadata": {},
   "outputs": [],
   "source": []
  },
  {
   "cell_type": "code",
   "execution_count": null,
   "metadata": {},
   "outputs": [],
   "source": []
  },
  {
   "cell_type": "code",
   "execution_count": null,
   "metadata": {},
   "outputs": [],
   "source": []
  },
  {
   "cell_type": "code",
   "execution_count": null,
   "metadata": {},
   "outputs": [],
   "source": []
  },
  {
   "cell_type": "code",
   "execution_count": null,
   "metadata": {},
   "outputs": [],
   "source": []
  },
  {
   "cell_type": "code",
   "execution_count": null,
   "metadata": {},
   "outputs": [],
   "source": []
  },
  {
   "cell_type": "code",
   "execution_count": null,
   "metadata": {},
   "outputs": [],
   "source": []
  },
  {
   "cell_type": "code",
   "execution_count": null,
   "metadata": {},
   "outputs": [],
   "source": []
  },
  {
   "cell_type": "code",
   "execution_count": null,
   "metadata": {},
   "outputs": [],
   "source": []
  }
 ],
 "metadata": {
  "kernelspec": {
   "display_name": "Python 3",
   "language": "python",
   "name": "python3"
  },
  "language_info": {
   "codemirror_mode": {
    "name": "ipython",
    "version": 3
   },
   "file_extension": ".py",
   "mimetype": "text/x-python",
   "name": "python",
   "nbconvert_exporter": "python",
   "pygments_lexer": "ipython3",
   "version": "3.6.5"
  }
 },
 "nbformat": 4,
 "nbformat_minor": 4
}
