{
 "cells": [
  {
   "cell_type": "markdown",
   "metadata": {},
   "source": [
    "# A star algorithm"
   ]
  },
  {
   "cell_type": "code",
   "execution_count": 326,
   "metadata": {},
   "outputs": [],
   "source": [
    "import numpy as np\n",
    "import math\n",
    "import matplotlib.pyplot as plt\n",
    "from IPython.display import clear_output\n",
    "import random"
   ]
  },
  {
   "cell_type": "code",
   "execution_count": 250,
   "metadata": {},
   "outputs": [],
   "source": [
    "class Node:\n",
    "    def __init__(self, parent=None, position=None):\n",
    "        self.parent = parent\n",
    "        self.position = position\n",
    "        \n",
    "        self.f = 0\n",
    "        self.g = 0\n",
    "        self.h = 0"
   ]
  },
  {
   "cell_type": "code",
   "execution_count": 251,
   "metadata": {},
   "outputs": [],
   "source": [
    "show_animation  = True"
   ]
  },
  {
   "cell_type": "code",
   "execution_count": 252,
   "metadata": {},
   "outputs": [],
   "source": [
    "def heuristic(cur_node, goal_node):\n",
    "    w = 1 # weigth of heuristic\n",
    "    dist = np.sqrt((cur_node.position[0] - goal_node.position[0])**2 + (cur_node.position[1]  - goal_node.position[1])**2)\n",
    "    return w*dist"
   ]
  },
  {
   "cell_type": "code",
   "execution_count": 434,
   "metadata": {},
   "outputs": [],
   "source": [
    "# a star algorithm\n",
    "def a_star(map_, start, goal):\n",
    "    \n",
    "    # initialize\n",
    "    start_node = Node(None, start)\n",
    "    goal_node = Node(None, goal)\n",
    "\n",
    "    Open = []\n",
    "    Closed = []\n",
    "\n",
    "    Open.append(start_node)\n",
    "    \n",
    "#     while Open is not None:\n",
    "    while Open:\n",
    "        \n",
    "        # find current node with lowest f in 'Open list'\n",
    "        cur_node = Open[0]\n",
    "        cur_ind = 0\n",
    "        for ind, node in enumerate(Open):\n",
    "            if node.f < cur_node.f:\n",
    "                cur_node = node\n",
    "                cur_ind = ind\n",
    "        \n",
    "        # If goal, get optimal path\n",
    "        if cur_node.position == goal_node.position:\n",
    "            opt_path = []\n",
    "\n",
    "            node = cur_node\n",
    "\n",
    "            while node is not None:\n",
    "                opt_path.append(node.position)\n",
    "                node = node.parent\n",
    "            print(\"opt path : \", opt_path[::-1])\n",
    "            return opt_path[::-1]\n",
    "\n",
    "        # if not goal, delete from 'Open list' and add to 'Closed list'\n",
    "        Open.pop(cur_ind)\n",
    "        Closed.append(cur_node)\n",
    "\n",
    "        # search child nodes\n",
    "        children = []\n",
    "        for action in [(0, -1), (0, 1), (-1, 0), (1, 0), (-1, -1), (-1, 1), (1, -1), (1, 1)]:\n",
    "            # position of child candidate\n",
    "            child_cand_pose = (cur_node.position[0] + action[0], cur_node.position[1] + action[1])\n",
    "\n",
    "            # check within map\n",
    "            if child_cand_pose[0] >= np.shape(map_)[0] and child_cand_pose[0] <= 0 and child_cand_pose[1] >= np.shape(map_)[1] and  child_cand_pose[1] <= 0:\n",
    "                continue\n",
    "\n",
    "            # check obstacle\n",
    "            if map_[child_cand_pose[0]][child_cand_pose[1]] == 1:\n",
    "                continue\n",
    "\n",
    "            # create new node\n",
    "            child_cand_node = Node(parent=cur_node, position=child_cand_pose)\n",
    "            children.append(child_cand_node)\n",
    "\n",
    "        # search through children\n",
    "        for child in children:\n",
    "\n",
    "            # If in 'Closed list', continue \n",
    "            if child in Closed:\n",
    "                continue\n",
    "\n",
    "            child.g = cur_node.g + 1\n",
    "            child.h = heuristic(child, goal_node)\n",
    "            child.f = child.g + child.h\n",
    "\n",
    "            # if node is not in 'Open list', add it\n",
    "            if child not in Open:\n",
    "                Open.append(child)\n",
    "\n",
    "            if child in Open:\n",
    "                for node in Open:\n",
    "                    if node == child and node.f > child.f:\n",
    "                        node.f = child.f\n"
   ]
  },
  {
   "cell_type": "code",
   "execution_count": null,
   "metadata": {},
   "outputs": [],
   "source": []
  },
  {
   "cell_type": "code",
   "execution_count": 437,
   "metadata": {},
   "outputs": [],
   "source": [
    "def main():\n",
    "#     map_ = [[0, 0, 0, 0, 1, 0, 0, 0, 0, 0],\n",
    "#             [0, 0, 0, 0, 1, 0, 0, 0, 0, 0],\n",
    "#             [0, 0, 1, 0, 1, 0, 0, 0, 0, 0],\n",
    "#             [0, 0, 1, 0, 1, 0, 0, 0, 0, 0],\n",
    "#             [0, 0, 1, 0, 1, 0, 0, 0, 0, 0],\n",
    "#             [0, 0, 0, 0, 0, 0, 0, 0, 0, 0],\n",
    "#             [0, 0, 0, 0, 1, 1, 0, 0, 0, 0],\n",
    "#             [0, 0, 0, 0, 1, 0, 0, 0, 0, 0],\n",
    "#             [0, 0, 0, 0, 1, 0, 0, 0, 0, 0],\n",
    "#             [0, 0, 0, 0, 0, 0, 0, 0, 0, 0]]\n",
    "    \n",
    "    start = (0, 0)\n",
    "    goal = (9, 6)\n",
    "    \n",
    "    len_mapx = 10\n",
    "    len_mapy = 10\n",
    "    \n",
    "    map_ = np.zeros((len_mapx, len_mapy))\n",
    "    for i in range(len_mapx):\n",
    "        for j in range(len_mapy):\n",
    "            if (i == start[0] and j == start[1]) or (i == goal[0] and j == goal[1]):\n",
    "                pass\n",
    "            else:\n",
    "                _a = random.randint(1,10)\n",
    "                if _a % 3 == 0:\n",
    "                    map_[i,j] = 1\n",
    "    map_ = list(map_)        \n",
    "\n",
    "    opt_path = a_star(map_, start, goal)\n",
    "    opt_path = np.array(np.array(opt_path))\n",
    "    map_ = np.array(map_)\n",
    "    \n",
    "    if show_animation == True:\n",
    "        plt.figure(figsize=(10,10))\n",
    "        plt.plot(start[0], start[1], 'bs',  markersize=10)\n",
    "        plt.text(start[0], start[1]+0.1, 'start', fontsize=12)\n",
    "        plt.plot(goal[0], goal[1], 'rs',  markersize=10)\n",
    "        plt.text(goal[0], goal[1]+0.1, 'goal', fontsize=12)\n",
    "        \n",
    "        for i in range(10):\n",
    "            for j in range(10):\n",
    "                if map_[i,j] == 1:\n",
    "                    plt.plot(i,j, 'ks', markersize=30)\n",
    "            \n",
    "#         plt.plot()\n",
    "        plt.grid(True)\n",
    "        plt.axis(\"equal\")\n",
    "        plt.plot(opt_path[:,0], opt_path[:,1], \"co-\")\n",
    "        plt.xlabel(\"X\"), plt.ylabel(\"Y\")\n",
    "        plt.title(\"A star algorithm\", fontsize=20)\n",
    "        plt.show()\n",
    "    \n",
    "    \n",
    "if __name__ == 'main':\n",
    "    main()"
   ]
  },
  {
   "cell_type": "code",
   "execution_count": 438,
   "metadata": {
    "scrolled": false
   },
   "outputs": [
    {
     "name": "stdout",
     "output_type": "stream",
     "text": [
      "opt path :  [(0, 0), (1, 0), (2, 1), (3, 2), (4, 3), (5, 3), (6, 4), (6, 5), (7, 6), (8, 7), (9, 6)]\n"
     ]
    },
    {
     "data": {
      "image/png": "[encoded data removed]",
      "text/plain": [
       "<Figure size 720x720 with 1 Axes>"
      ]
     },
     "metadata": {
      "needs_background": "light"
     },
     "output_type": "display_data"
    }
   ],
   "source": [
    "main()"
   ]
  },
  {
   "cell_type": "code",
   "execution_count": null,
   "metadata": {},
   "outputs": [],
   "source": []
  },
  {
   "cell_type": "code",
   "execution_count": null,
   "metadata": {},
   "outputs": [],
   "source": []
  },
  {
   "cell_type": "code",
   "execution_count": null,
   "metadata": {},
   "outputs": [],
   "source": []
  },
  {
   "cell_type": "code",
   "execution_count": null,
   "metadata": {},
   "outputs": [],
   "source": []
  },
  {
   "cell_type": "code",
   "execution_count": null,
   "metadata": {},
   "outputs": [],
   "source": []
  },
  {
   "cell_type": "code",
   "execution_count": null,
   "metadata": {},
   "outputs": [],
   "source": []
  },
  {
   "cell_type": "code",
   "execution_count": null,
   "metadata": {},
   "outputs": [],
   "source": []
  },
  {
   "cell_type": "code",
   "execution_count": null,
   "metadata": {},
   "outputs": [],
   "source": []
  },
  {
   "cell_type": "code",
   "execution_count": null,
   "metadata": {},
   "outputs": [],
   "source": []
  },
  {
   "cell_type": "code",
   "execution_count": null,
   "metadata": {},
   "outputs": [],
   "source": []
  },
  {
   "cell_type": "code",
   "execution_count": null,
   "metadata": {},
   "outputs": [],
   "source": []
  },
  {
   "cell_type": "code",
   "execution_count": null,
   "metadata": {},
   "outputs": [],
   "source": []
  },
  {
   "cell_type": "code",
   "execution_count": null,
   "metadata": {},
   "outputs": [],
   "source": []
  },
  {
   "cell_type": "code",
   "execution_count": null,
   "metadata": {},
   "outputs": [],
   "source": []
  }
 ],
 "metadata": {
  "kernelspec": {
   "display_name": "Python 3",
   "language": "python",
   "name": "python3"
  },
  "language_info": {
   "codemirror_mode": {
    "name": "ipython",
    "version": 3
   },
   "file_extension": ".py",
   "mimetype": "text/x-python",
   "name": "python",
   "nbconvert_exporter": "python",
   "pygments_lexer": "ipython3",
   "version": "3.6.5"
  }
 },
 "nbformat": 4,
 "nbformat_minor": 4
}
