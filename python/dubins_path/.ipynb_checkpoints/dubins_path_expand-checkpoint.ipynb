{
 "cells": [
  {
   "cell_type": "markdown",
   "metadata": {},
   "source": [
    "# Dubins path algorithm"
   ]
  },
  {
   "cell_type": "markdown",
   "metadata": {},
   "source": [
    "- Reference \n",
    "    - https://github.com/dawnjeanh/motionplanning/blob/master/python/dubins_path.py\n",
    "    - https://en.wikipedia.org/wiki/Dubins_path"
   ]
  },
  {
   "cell_type": "code",
   "execution_count": 24,
   "metadata": {},
   "outputs": [],
   "source": [
    "import numpy as np\n",
    "import math\n",
    "import matplotlib.pyplot as plt\n",
    "from IPython.display import clear_output\n",
    "import random\n",
    "import time\n",
    "from copy import deepcopy"
   ]
  },
  {
   "cell_type": "markdown",
   "metadata": {},
   "source": [
    "- Initialize variable"
   ]
  },
  {
   "cell_type": "code",
   "execution_count": 149,
   "metadata": {},
   "outputs": [
    {
     "name": "stdout",
     "output_type": "stream",
     "text": [
      "MAX STEER ANGLE : 40 [deg], TURNING RADIUS : 4.77 [m] \n"
     ]
    }
   ],
   "source": [
    "delta_max = 40 # max steering angle [deg]\n",
    "L = 4 # wheel base [m]\n",
    "r_turn = L / np.tan(delta_max * np.pi/180)\n",
    "print(\"MAX STEER ANGLE : {} [deg], TURNING RADIUS : {:.2f} [m] \".format(delta_max, r_turn))\n",
    "ds = 0.5\n",
    "\n",
    "X_EXPAND = 30 # [m]"
   ]
  },
  {
   "cell_type": "markdown",
   "metadata": {},
   "source": [
    "## Dubins path"
   ]
  },
  {
   "cell_type": "code",
   "execution_count": 150,
   "metadata": {
    "scrolled": false
   },
   "outputs": [],
   "source": [
    "class DubinsPath():\n",
    "    def __init__(self, init_state, goal_state, r_turn):\n",
    "        self.qi = init_state\n",
    "        self.qg = goal_state\n",
    "        self.r = r_turn\n",
    "        self.path = []\n",
    "                      \n",
    "        self.dubins_words = [self.dubins_LSL,\n",
    "                                    self.dubins_LSR,\n",
    "                                    self.dubins_RSL,\n",
    "                                    self.dubins_RSR,\n",
    "                                    self.dubins_LRL,\n",
    "                                    self.dubins_RLR]\n",
    "    \n",
    "    def mod2pi(self, theta):\n",
    "        return theta - 2*np.pi * np.floor(theta / (2*np.pi))\n",
    "        \n",
    "    \n",
    "    def set_dubins_path(self, step_size):\n",
    "        di = self.dubins_init()\n",
    "        for w in self.dubins_words:\n",
    "            path = w(di, step_size)\n",
    "            if path is not None:\n",
    "                self.path.append(path)\n",
    "    \n",
    "    \n",
    "    def get_shortest_path(self):\n",
    "        shortest_cost = float(\"inf\")\n",
    "        shortest_path = []\n",
    "        for path in self.path:\n",
    "            if path:\n",
    "                cost = 0\n",
    "                for p in path:\n",
    "                    if p[0] == 's':\n",
    "                        cost += p[1]\n",
    "                    else:\n",
    "                        cost += p[1] * self.r \n",
    "                if cost < shortest_cost:\n",
    "                    shortest_path = path\n",
    "                    shortest_cost = cost\n",
    "        return deepcopy(shortest_path), shortest_cost  \n",
    "    \n",
    "    \n",
    "    def dubins_init(self):\n",
    "        dx = self.qg[0] - self.qi[0]\n",
    "        dy = self.qg[1] - self.qi[1]\n",
    "        dyaw = self.qg[2] - self.qi[2]\n",
    "        \n",
    "        dx_ = dx * np.cos(self.qi[2]) + dy * np.sin(self.qi[2])\n",
    "        dy_ = -dx * np.sin(self.qi[2]) + dy * np.cos(self.qi[2])\n",
    "        dx_ = dx_ / self.r\n",
    "        dy_ = dy_ / self.r\n",
    "\n",
    "        return [dx_, dy_, dyaw]\n",
    "\n",
    "    \n",
    "    def dubins_LSL(self, di, step_size):\n",
    "        u_ct = di[0] - np.sin(di[2])\n",
    "        u_st = di[1] - 1 + np.cos(di[2])\n",
    "\n",
    "        u = np.sqrt(u_ct**2 + u_st**2)\n",
    "        t = self.mod2pi(np.arctan2(u_st, u_ct))\n",
    "        v = self.mod2pi(di[2] - t)\n",
    "\n",
    "        if step_size <= t*self.r:\n",
    "            return [['l', step_size/self.r]]\n",
    "        elif step_size > t*self.r and step_size <= t*self.r + u*self.r:\n",
    "            return [['l', t], ['s', step_size-t*self.r]]\n",
    "        elif step_size > t*self.r + u*self.r and step_size <= t*self.r + u*self.r + v*self.r:\n",
    "            return [['l', t], ['s', u * self.r], ['l', step_size/self.r-t-u]]\n",
    "        else:        \n",
    "            return [['l', t], ['s', u * self.r], ['l', v]]\n",
    "\n",
    "    \n",
    "    def dubins_LSR(self, di, step_size):\n",
    "        u1_ct1 = di[0] + np.sin(di[2])\n",
    "        u1_st1 = di[1] - 1 - np.cos(di[2])\n",
    "        u1 = np.sqrt(u1_ct1**2 + u1_st1**2)\n",
    "        if u1 < 2:\n",
    "            return []\n",
    "        else:\n",
    "            u = np.sqrt(u1**2 - 4)\n",
    "            theta = np.arctan2(2, u)\n",
    "            t1 = np.arctan2(u1_st1, u1_ct1)\n",
    "            t = self.mod2pi(t1 + theta)\n",
    "            v = self.mod2pi(t - di[2])\n",
    "\n",
    "            if step_size <= t*self.r:\n",
    "                return [['l', step_size/self.r]]\n",
    "            elif step_size > t*self.r and step_size <= t*self.r + u*self.r:\n",
    "                return [['l', t], ['s', step_size-t*self.r]]\n",
    "            elif step_size > t*self.r + u*self.r and step_size <= t*self.r + u*self.r + v*self.r:\n",
    "                return [['l', t], ['s', u * self.r], ['r', step_size/self.r-t-u]]\n",
    "            else:        \n",
    "                return [['l', t], ['s', u * self.r], ['r', v]]\n",
    "\n",
    "        \n",
    "    def dubins_RSL(self, di, step_size):\n",
    "        u1_ct1 = di[0] - np.sin(di[2])\n",
    "        u1_st1 = -di[1] - 1 - np.cos(di[2])\n",
    "        u1 = np.sqrt(u1_ct1**2 + u1_st1**2)\n",
    "        if u1 < 2:\n",
    "            return []\n",
    "        else:\n",
    "            u = np.sqrt(u1**2 - 4)\n",
    "            theta = np.arctan2(2, u)\n",
    "            t1 = np.arctan2(u1_st1, u1_ct1)\n",
    "            t = self.mod2pi(t1 + theta)\n",
    "            v = self.mod2pi(t + di[2])\n",
    "            \n",
    "            if step_size <= t*self.r:\n",
    "                return [['r', step_size/self.r]]\n",
    "            elif step_size > t*self.r and step_size <= t*self.r + u*self.r:\n",
    "                return [['r', t], ['s', step_size-t*self.r]]\n",
    "            elif step_size > t*self.r + u*self.r and step_size <= t*self.r + u*self.r + v*self.r:\n",
    "                return [['r', t], ['s', u * self.r], ['l', step_size/self.r-t-u]]\n",
    "            else:        \n",
    "                return [['r', t], ['s', u * self.r], ['l', v]]\n",
    "        \n",
    "        \n",
    "    def dubins_RSR(self, di, step_size):\n",
    "        u_ct = di[0] + np.sin(di[2])\n",
    "        u_st = -di[1] - 1 + np.cos(di[2])\n",
    "\n",
    "        u = np.sqrt(u_ct**2 + u_st**2)\n",
    "        t = self.mod2pi(np.arctan2(u_st, u_ct))\n",
    "        v = self.mod2pi(-di[2] - t)\n",
    "        \n",
    "        if step_size <= t*self.r:\n",
    "            return [['r', step_size/self.r]]\n",
    "        elif step_size > t*self.r and step_size <= t*self.r + u*self.r:\n",
    "            return [['r', t], ['s', step_size-t*self.r]]\n",
    "        elif step_size > t*self.r + u*self.r and step_size <= t*self.r + u*self.r + v*self.r:\n",
    "            return [['r', t], ['s', u * self.r], ['r', step_size/self.r-t-u]]\n",
    "        else:        \n",
    "            return [['r', t], ['s', u * self.r], ['r', v]]\n",
    "  \n",
    "\n",
    "    def dubins_LRL(self, di, step_size):\n",
    "        u1_ct1 = di[0] - np.sin(di[2])\n",
    "        u1_st1 = di[1] - 1 + np.cos(di[2])\n",
    "        u1 = np.sqrt(u1_ct1**2 + u1_st1**2)\n",
    "        if u1 > 4:\n",
    "            return []\n",
    "        else:\n",
    "            t1 = np.arctan2(u1_st1, u1_ct1)\n",
    "            theta = np.arccos(u1/4)\n",
    "            t = self.mod2pi(np.pi/2 + t1 + theta)\n",
    "            u = self.mod2pi(np.pi + 2*theta)\n",
    "            v = self.mod2pi(np.pi/2 + theta + di[2] - t1)\n",
    "            \n",
    "            if step_size <= t*self.r:\n",
    "                return [['l', step_size/self.r]]\n",
    "            elif step_size > t*self.r and step_size <= t*self.r + u*self.r:\n",
    "                return [['l', t], ['r', step_size-t]]\n",
    "            elif step_size > t*self.r + u*self.r and step_size <= t*self.r + u*self.r + v*self.r:\n",
    "                return [['l', t], ['r', u], ['l', step_size/self.r-t-u]]\n",
    "            else:        \n",
    "                return [['l', t], ['r', u], ['l', v]]\n",
    "\n",
    "            \n",
    "    def dubins_RLR(self, di, step_size):\n",
    "        u1_ct1 = di[0] + np.sin(di[2])\n",
    "        u1_st1 = -di[1] - 1 + np.cos(di[2])\n",
    "        u1 = np.sqrt(u1_ct1**2 + u1_st1**2)\n",
    "        if u1 > 4:\n",
    "            return []\n",
    "        else:\n",
    "            t1 = np.arctan2(u1_st1, u1_ct1)\n",
    "            theta = np.arccos(u1/4)\n",
    "            t = self.mod2pi(np.pi/2 + t1 + theta)\n",
    "            u = self.mod2pi(np.pi + 2*theta)\n",
    "            v = self.mod2pi(np.pi/2 + theta - di[2] - t1)\n",
    "            \n",
    "            if step_size <= t*self.r:\n",
    "                return [['r', step_size/self.r]]\n",
    "            elif step_size > t*self.r and step_size <= t*self.r + u*self.r:\n",
    "                return [['r', t], ['l', step_size-t]]\n",
    "            elif step_size > t*self.r + u*self.r and step_size <= t*self.r + u*self.r + v*self.r:\n",
    "                return [['r', t], ['l', u], ['r', step_size/self.r-t-u]]\n",
    "            else:        \n",
    "                return [['r', t], ['l', u], ['r', v]]\n",
    "        \n",
    "\n",
    "    def draw_point(self, point, arrow_length=0.5):\n",
    "        plt.plot(point[0], point[1], 'o')\n",
    "        plt.arrow(point[0], point[1], arrow_length * math.cos(point[2]), arrow_length * math.sin(point[2]), head_width=0.05)\n",
    "\n",
    "        \n",
    "    def heading_norm(heading):\n",
    "        heading = np.arctan2(np.sin(np.deg2rad(heading)), np.cos(np.deg2rad(heading)))\n",
    "        return np.rad2deg(heading)\n",
    "\n",
    "    @classmethod\n",
    "    def gen_dubins_path(self, s, path, r=r_turn, section=True):\n",
    "        def get_turn_center(p, d, r):\n",
    "            if d == \"l\":\n",
    "                theta = p[2] + np.pi/2\n",
    "            elif d == \"r\":\n",
    "                theta = p[2] - np.pi/2\n",
    "            else:\n",
    "                return None\n",
    "            x = p[0] + r * np.cos(theta)\n",
    "            y = p[1] + r * np.sin(theta)\n",
    "            return x, y\n",
    "\n",
    "        path_x = []\n",
    "        path_y = []\n",
    "        path_theta = []\n",
    "        p_x = []\n",
    "        p_y = []\n",
    "        p_theta = []\n",
    "        init = s\n",
    "        yaw = s[2]\n",
    "        print(path)\n",
    "        for p in path:\n",
    "            print(\"p : \", p)\n",
    "            if p[0] == 's':\n",
    "                for l in np.arange(0, p[1], ds):\n",
    "                    p_x.append(init[0] + l * np.cos(yaw))\n",
    "                    p_y.append(init[1] + l * np.sin(yaw))\n",
    "                    _yaw = self.heading_norm(yaw*(180/np.pi))\n",
    "                    p_theta.append(_yaw)\n",
    "                p_x.append(init[0] + np.cos(yaw) * p[1])\n",
    "                p_y.append(init[1] + np.sin(yaw) * p[1])\n",
    "                _yaw = self.heading_norm(yaw*(180/np.pi))\n",
    "                p_theta.append(_yaw)\n",
    "                if section:\n",
    "                    path_x.append(p_x)\n",
    "                    path_y.append(p_y)\n",
    "                    path_theta.append(p_theta)\n",
    "                else:\n",
    "                    path_x += p_x\n",
    "                    path_y += p_y\n",
    "                    path_theta += p_theta\n",
    "            else:\n",
    "                center = get_turn_center(init, p[0], r)\n",
    "                theta_init = np.arctan2(init[1] - center[1], init[0] - center[0])\n",
    "                if p[0] == 'l':\n",
    "                    theta_goal = theta_init + p[1]\n",
    "                else:\n",
    "                    theta_goal = theta_init - p[1]\n",
    "\n",
    "                step = ds / r\n",
    "                for theta in np.arange(theta_init, theta_goal, step if p[0] == 'l' else -step):\n",
    "                    p_x.append(center[0] + r * np.cos(theta))\n",
    "                    p_y.append(center[1] + r * np.sin(theta))\n",
    "                    _yaw = self.heading_norm(theta*(180/np.pi) + 90 if p[0] == 'l' else theta*(180/np.pi) - 90)\n",
    "                    p_theta.append(_yaw)\n",
    "                p_x.append(center[0] + r * np.cos(theta_goal))\n",
    "                p_y.append(center[1] + r * np.sin(theta_goal))\n",
    "                _yaw = self.heading_norm(theta_goal*(180/np.pi) + 90 if p[0] == 'l' else theta_goal*(180/np.pi) - 90)\n",
    "                p_theta.append(_yaw)\n",
    "                if section:\n",
    "                    path_x.append(p_x)\n",
    "                    path_y.append(p_y)\n",
    "                    path_theta.append(p_theta)\n",
    "                else:\n",
    "                    path_x += p_x\n",
    "                    path_y += p_y\n",
    "                    path_theta += p_theta\n",
    "\n",
    "                yaw = init[2] + p[1] if p[0] == 'l' else init[2] - p[1]\n",
    "\n",
    "            init = (p_x[-1], p_y[-1], yaw)\n",
    "            p_x = []\n",
    "            p_y = []\n",
    "            p_theta = []\n",
    "\n",
    "            # for i in range(len(path_theta))\n",
    "        return path_x, path_y, path_theta"
   ]
  },
  {
   "cell_type": "code",
   "execution_count": 151,
   "metadata": {
    "scrolled": false
   },
   "outputs": [
    {
     "name": "stdout",
     "output_type": "stream",
     "text": [
      "[['l', 2.716087629566553], ['s', 15.350230752251198], ['l', 0.3570663635880167]]\n",
      "p :  ['l', 2.716087629566553]\n",
      "p :  ['s', 15.350230752251198]\n",
      "p :  ['l', 0.3570663635880167]\n",
      "[['l', 3.513045811179452], ['s', 13.25326013431539]]\n",
      "p :  ['l', 3.513045811179452]\n",
      "p :  ['s', 13.25326013431539]\n",
      "[['r', 4.457807324839239], ['s', 8.749568422120209]]\n",
      "p :  ['r', 4.457807324839239]\n",
      "p :  ['s', 8.749568422120209]\n",
      "[['r', 3.604672121282182], ['s', 12.816476197351072]]\n",
      "p :  ['r', 3.604672121282182]\n",
      "p :  ['s', 12.816476197351072]\n",
      "[['l', 4.921965523220368], ['r', 4.411755787307628], ['l', 4.7257780200702495]]\n",
      "p :  ['l', 4.921965523220368]\n",
      "p :  ['r', 4.411755787307628]\n",
      "p :  ['l', 4.7257780200702495]\n"
     ]
    },
    {
     "data": {
      "image/png": "[encoded data removed]",
      "text/plain": [
       "<Figure size 1080x720 with 5 Axes>"
      ]
     },
     "metadata": {
      "needs_background": "light"
     },
     "output_type": "display_data"
    },
    {
     "data": {
      "image/png": "[encoded data removed]",
      "text/plain": [
       "<Figure size 720x720 with 1 Axes>"
      ]
     },
     "metadata": {
      "needs_background": "light"
     },
     "output_type": "display_data"
    }
   ],
   "source": [
    "def test():\n",
    "    plt.figure(figsize=(15,10))\n",
    "    init_state = [0,0,200 * (np.pi/180)]\n",
    "    goal_state = [20,-2,140 * (np.pi/180)]\n",
    "    x_list, y_list = [], []\n",
    "    dubins = DubinsPath(init_state, goal_state, r_turn)\n",
    "    dubins.set_dubins_path(step_size=X_EXPAND)\n",
    "    shortest_path, _ = dubins.get_shortest_path()\n",
    "#     print(shortest_path)\n",
    "\n",
    "    for i in range(len(dubins.dubins_words)):\n",
    "        path = dubins.path[i]\n",
    "        color = \"k\"\n",
    "        linewidth = 2\n",
    "        if path == shortest_path:\n",
    "            color = \"r\"\n",
    "            linewidth = 10\n",
    "#         print(\"Dubins path : \", path)\n",
    "        if path:\n",
    "            plt.subplot(2,3,i+1)\n",
    "            len_path = len(path)\n",
    "                      \n",
    "#             plt.title('{}{}{}'.format(path[0][0], path[1][0], path[2][0]), fontsize=20, color=color)\n",
    "            dubins.draw_point(init_state)\n",
    "            dubins.draw_point(goal_state)\n",
    "#             print(\"------------------------------------------------------------\")\n",
    "            xs, ys, thetas = DubinsPath.gen_dubins_path(init_state, path, r_turn)\n",
    "\n",
    "            \n",
    "#             print(\"!!! Dubins Path {}\".format(i))\n",
    "            for i in range(len_path):\n",
    "                plt.plot(xs[i], ys[i], linewidth=linewidth)\n",
    "#                 print(\"---------- This step is {}\".format(i))\n",
    "#                 print(thetas[i])\n",
    "            plt.axis('equal')\n",
    "\n",
    "            x_list.append(xs)\n",
    "            y_list.append(ys)\n",
    "        \n",
    "    color_set = ['r', 'b', 'g', 'm', 'k', 'c']\n",
    "    plt.figure(figsize=(10,10))\n",
    "    dubins.draw_point(init_state)\n",
    "    dubins.draw_point(goal_state)\n",
    "    plt.title(\"All Dubins path types\", fontsize=15)\n",
    "    plt.axis('equal')\n",
    "    \n",
    "    k = 0\n",
    "    for i in range(len(dubins.dubins_words)):\n",
    "        path = dubins.path[i]\n",
    "        if path:\n",
    "            len_path = len(path)\n",
    "            for j in range(len_path):\n",
    "                plt.plot(x_list[k][j], y_list[k][j], color_set[k], linewidth=3)\n",
    "            k += 1\n",
    "        \n",
    "if __name__ == \"__main__\":\n",
    "    test()\n",
    "    "
   ]
  },
  {
   "cell_type": "code",
   "execution_count": 152,
   "metadata": {},
   "outputs": [
    {
     "data": {
      "text/plain": [
       "29.952034651065706"
      ]
     },
     "execution_count": 152,
     "metadata": {},
     "output_type": "execute_result"
    }
   ],
   "source": [
    "2*r_turn * np.pi"
   ]
  },
  {
   "cell_type": "code",
   "execution_count": null,
   "metadata": {},
   "outputs": [],
   "source": []
  },
  {
   "cell_type": "code",
   "execution_count": null,
   "metadata": {},
   "outputs": [],
   "source": []
  },
  {
   "cell_type": "code",
   "execution_count": null,
   "metadata": {},
   "outputs": [],
   "source": []
  },
  {
   "cell_type": "code",
   "execution_count": null,
   "metadata": {},
   "outputs": [],
   "source": []
  },
  {
   "cell_type": "code",
   "execution_count": null,
   "metadata": {},
   "outputs": [],
   "source": []
  },
  {
   "cell_type": "code",
   "execution_count": null,
   "metadata": {},
   "outputs": [],
   "source": []
  },
  {
   "cell_type": "code",
   "execution_count": null,
   "metadata": {},
   "outputs": [],
   "source": []
  },
  {
   "cell_type": "code",
   "execution_count": null,
   "metadata": {},
   "outputs": [],
   "source": []
  },
  {
   "cell_type": "code",
   "execution_count": null,
   "metadata": {},
   "outputs": [],
   "source": []
  },
  {
   "cell_type": "code",
   "execution_count": null,
   "metadata": {},
   "outputs": [],
   "source": []
  },
  {
   "cell_type": "code",
   "execution_count": null,
   "metadata": {},
   "outputs": [],
   "source": []
  },
  {
   "cell_type": "code",
   "execution_count": null,
   "metadata": {},
   "outputs": [],
   "source": []
  },
  {
   "cell_type": "code",
   "execution_count": null,
   "metadata": {},
   "outputs": [],
   "source": []
  },
  {
   "cell_type": "code",
   "execution_count": null,
   "metadata": {},
   "outputs": [],
   "source": []
  },
  {
   "cell_type": "code",
   "execution_count": null,
   "metadata": {},
   "outputs": [],
   "source": []
  },
  {
   "cell_type": "code",
   "execution_count": null,
   "metadata": {},
   "outputs": [],
   "source": []
  },
  {
   "cell_type": "code",
   "execution_count": null,
   "metadata": {},
   "outputs": [],
   "source": []
  },
  {
   "cell_type": "code",
   "execution_count": null,
   "metadata": {},
   "outputs": [],
   "source": []
  },
  {
   "cell_type": "code",
   "execution_count": null,
   "metadata": {},
   "outputs": [],
   "source": []
  },
  {
   "cell_type": "code",
   "execution_count": null,
   "metadata": {},
   "outputs": [],
   "source": []
  },
  {
   "cell_type": "code",
   "execution_count": null,
   "metadata": {},
   "outputs": [],
   "source": []
  },
  {
   "cell_type": "code",
   "execution_count": null,
   "metadata": {},
   "outputs": [],
   "source": []
  }
 ],
 "metadata": {
  "kernelspec": {
   "display_name": "Python 3",
   "language": "python",
   "name": "python3"
  },
  "language_info": {
   "codemirror_mode": {
    "name": "ipython",
    "version": 3
   },
   "file_extension": ".py",
   "mimetype": "text/x-python",
   "name": "python",
   "nbconvert_exporter": "python",
   "pygments_lexer": "ipython3",
   "version": "3.6.5"
  }
 },
 "nbformat": 4,
 "nbformat_minor": 4
}
